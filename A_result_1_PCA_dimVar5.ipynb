{
 "cells": [
  {
   "cell_type": "code",
   "execution_count": 1,
   "metadata": {},
   "outputs": [],
   "source": [
    "#using package ml ml \n",
    "\n",
    "import torch\n",
    "import seaborn as sns\n",
    "import matplotlib.pyplot as plt\n",
    "from scipy.spatial.distance import cosine\n",
    "import numpy as np\n",
    "\n",
    "from sklearn import decomposition\n",
    "import pandas as pd"
   ]
  },
  {
   "cell_type": "code",
   "execution_count": 2,
   "metadata": {},
   "outputs": [],
   "source": [
    "from torchmetrics.functional import pairwise_cosine_similarity"
   ]
  },
  {
   "cell_type": "code",
   "execution_count": 3,
   "metadata": {},
   "outputs": [],
   "source": [
    "from sklearn.decomposition import PCA"
   ]
  },
  {
   "cell_type": "code",
   "execution_count": 4,
   "metadata": {},
   "outputs": [],
   "source": [
    "with open('adj/english-adjectives.txt') as f:\n",
    "    adjatives = [line.strip() for line in f]"
   ]
  },
  {
   "cell_type": "code",
   "execution_count": 5,
   "metadata": {},
   "outputs": [],
   "source": [
    "from sentence_transformers import SentenceTransformer\n",
    "model = SentenceTransformer('bert-base-nli-mean-tokens')\n",
    "\n",
    "#from scipy import cosine"
   ]
  },
  {
   "cell_type": "code",
   "execution_count": null,
   "metadata": {},
   "outputs": [],
   "source": []
  },
  {
   "cell_type": "code",
   "execution_count": 6,
   "metadata": {},
   "outputs": [],
   "source": [
    "# import parrot"
   ]
  },
  {
   "cell_type": "code",
   "execution_count": 7,
   "metadata": {},
   "outputs": [],
   "source": [
    "# par = parrot(model_tag=\"prithivida/parrot_paraphraser_on_T5\")"
   ]
  },
  {
   "cell_type": "code",
   "execution_count": 8,
   "metadata": {},
   "outputs": [],
   "source": [
    "# {'Q22.2': 'I like the idea of safe automated vehicles if they make it easier for me to travel.',\n",
    "#  'Q22.3': 'I trust automated vehicles to operate safely.',\n",
    "#  'Q22.4': 'I would consider buying an automated vehicle.',\n",
    "#  'Q22.5': 'I would be comfortable riding in an automated vehicle.',\n",
    "#  'Q22.6': 'I would allow my children to be transported in an automated vehicle.',\n",
    "#  'Q22.7': 'I would pay a higher price for a partly or fully automated vehicle than a non-automated vehicle.',\n",
    "#  'Q22.8': 'I would enjoy being able to use my time in an automated vehicle for things like reading, or relaxing rather than driving.',\n",
    "#  'Q22.9': 'I enjoy actually driving a car, and would prefer that to riding in an automated vehicle.'}"
   ]
  },
  {
   "cell_type": "code",
   "execution_count": 9,
   "metadata": {},
   "outputs": [],
   "source": [
    "num_pca = 40\n",
    "scen = 0\n",
    "embed_dim = num_pca\n",
    "removed_quest = ['Q20.2', 'Q21.2', 'Q22.2']\n",
    "\n",
    "pca = decomposition.PCA(n_components=embed_dim)"
   ]
  },
  {
   "cell_type": "code",
   "execution_count": 10,
   "metadata": {},
   "outputs": [],
   "source": [
    "compress_method = \"PCA\" \n",
    "# none\n",
    "# PCA\n",
    "# auto_encoder\n",
    "NN_PARAM = [100, 10] # last number \n",
    "lamb = 5\n",
    "# parrot"
   ]
  },
  {
   "cell_type": "code",
   "execution_count": 11,
   "metadata": {},
   "outputs": [],
   "source": [
    "USE_MANUAL = False"
   ]
  },
  {
   "cell_type": "code",
   "execution_count": 12,
   "metadata": {},
   "outputs": [],
   "source": [
    "pca = PCA(n_components=num_pca)"
   ]
  },
  {
   "cell_type": "code",
   "execution_count": 13,
   "metadata": {},
   "outputs": [],
   "source": [
    "def load_sentences(doc_name=\"sentences.txt\"):\n",
    "    file = open(doc_name, 'r')\n",
    "    lines = file.readlines()\n",
    "    \n",
    "    ret_dic = {}\n",
    "    for index, line in enumerate(lines):\n",
    "        if index%2 == 0:\n",
    "            key= line.strip()\n",
    "        else:\n",
    "            ret_dic[key] = line.strip()\n",
    "    \n",
    "    return ret_dic\n",
    "\n",
    "sentences =load_sentences()\n",
    "question_num = list(sentences.keys())[:-1]\n",
    "\n",
    "def load_sentences_excel(doc_name=\"manual_values.xlsx\", subset = 0):\n",
    "    if subset == 0:\n",
    "        sheet_name = \"raw_questions\"\n",
    "    else:\n",
    "        sheet_name = f\"subset_{subset}\"\n",
    "        \n",
    "    df = pd.read_excel(\"manual_values.xlsx\", sheet_name=sheet_name)\n",
    "    \n",
    "    return dict(list(zip(df[\"Question\"], df[\"Sentence\"]))), df\n",
    "# sentences =load_sentences()\n",
    "# question_num = list(sentences.keys())[:-1]"
   ]
  },
  {
   "cell_type": "code",
   "execution_count": 14,
   "metadata": {},
   "outputs": [],
   "source": [
    "def list_text_to_tens(sentences):\n",
    "    return torch.FloatTensor(model.encode(sentences))\n",
    "\n",
    "adj_embed = list_text_to_tens(adjatives)"
   ]
  },
  {
   "cell_type": "code",
   "execution_count": 15,
   "metadata": {},
   "outputs": [],
   "source": [
    "def proces_sent(sent_dic, NUM_PEOPLE, get_strange_quest=7):\n",
    "    #assume reponses are ordered 1 per person\n",
    "    \n",
    "    sentences = []\n",
    "    questions = []\n",
    "    for key, sentence in sent_dic.items():\n",
    "        questions.append(key)\n",
    "        sentences.append(sentence)\n",
    "    \n",
    "    sent_embed = model.encode(sentences)\n",
    "    \n",
    "    \n",
    "    # find wierdest questions to be removed\n",
    "    sent_dic_distances = []\n",
    "    for base_vec, question in zip(sent_embed, sent_dic.keys()):\n",
    "        distances = []\n",
    "        for compare_vec in sent_embed:\n",
    "            distances.append(cosine(compare_vec, base_vec))\n",
    "        sent_dic_distances.append((question, sum(distances)/len(distances)))\n",
    "        \n",
    "    #pca.fit(sent_embed)\n",
    "    #red_embed = pca.transform(sent_embed)\n",
    "    sorted_sent_dic_distances = sorted(sent_dic_distances, key=lambda x: x[1])\n",
    "    bad_questions = [quest for quest, _ in sorted_sent_dic_distances][-get_strange_quest:]\n",
    "    \n",
    "    ret_tens = torch.FloatTensor(sent_embed)\n",
    "    return torch.concat([ret_tens for _ in range(NUM_PEOPLE)]), bad_questions\n"
   ]
  },
  {
   "cell_type": "code",
   "execution_count": 16,
   "metadata": {},
   "outputs": [],
   "source": [
    "# foo = dict([a for a in enumerate(adjatives)])\n",
    "\n",
    "# measurements, _ = proces_sent(foo, 1 ,0)"
   ]
  },
  {
   "cell_type": "code",
   "execution_count": 17,
   "metadata": {},
   "outputs": [],
   "source": [
    "# measurements.shape"
   ]
  },
  {
   "cell_type": "code",
   "execution_count": 18,
   "metadata": {},
   "outputs": [],
   "source": [
    "def load_responses(questions, filepath = \"responses.xlsx\"):\n",
    "    df = pd.read_excel(filepath, sheet_name=\"Mobility and Future Mobility CL\")\n",
    "    df = df[questions]\n",
    "    df = df.replace([\"Strongly disagree\", \"Disagree\", \"Somewhat disagree\", \"Somewhat agree\", \"Agree\", \"Strongly agree\"], \n",
    "                    [0, 1, 2, 3, 4, 5])\n",
    "    \n",
    "    #df = df.replace([0,1,2,3,4,5], [0,0,0,1,1,1])\n",
    "    # TODO investigate NANS\n",
    "    df = df.fillna(0)\n",
    "    return df\n"
   ]
  },
  {
   "cell_type": "code",
   "execution_count": 19,
   "metadata": {},
   "outputs": [],
   "source": [
    "def proces_responses(responses):\n",
    "    ret_tens = responses.to_numpy()\n",
    "    x, y = ret_tens.shape\n",
    "    ret_tens = ret_tens.reshape(x*y)\n",
    "    \n",
    "    #everyone at least strongly disagrees\n",
    "    disagree = 1.*(ret_tens >= .5).reshape(len(ret_tens), 1)\n",
    "    som_disagree = 1.*(ret_tens >=1.5).reshape(len(ret_tens), 1)\n",
    "    som_agree = 1.*(ret_tens >=2.5).reshape(len(ret_tens), 1)\n",
    "    agree = 1.*(ret_tens >=3.5).reshape(len(ret_tens), 1)\n",
    "    stong_agree = 1.*(ret_tens >= 4.5).reshape(len(ret_tens), 1)\n",
    "    \n",
    "    ret_likard = np.concatenate((disagree, som_disagree, som_agree, agree, stong_agree), axis=1)\n",
    "    \n",
    "    #TODO process into hot 1 embedding \n",
    "    return x, torch.FloatTensor(ret_likard)"
   ]
  },
  {
   "cell_type": "code",
   "execution_count": 20,
   "metadata": {},
   "outputs": [],
   "source": [
    "def encode_sentence(in_string):\n",
    "    x = model.encode(in_string)\n",
    "    return x"
   ]
  },
  {
   "cell_type": "code",
   "execution_count": 21,
   "metadata": {},
   "outputs": [],
   "source": [
    "from math import floor\n",
    "\n",
    "def get_people_one_hot():\n",
    "    num_q = int(len(y_train)/NUM_PEOPLE)\n",
    "    to_tens = []\n",
    "\n",
    "    for index in range(len(x_train)):\n",
    "        one_hot = floor(index/num_q)\n",
    "        temp_list = [0. for i in range(NUM_PEOPLE)]\n",
    "        temp_list[one_hot] = 1.\n",
    "        to_tens.append(temp_list)\n",
    "    \n",
    "    return torch.tensor(to_tens)"
   ]
  },
  {
   "cell_type": "code",
   "execution_count": 22,
   "metadata": {},
   "outputs": [],
   "source": [
    "# list(questions.keys()).index(['Q22.2', 'Q22.3'])"
   ]
  },
  {
   "cell_type": "code",
   "execution_count": 23,
   "metadata": {},
   "outputs": [],
   "source": [
    "def remove_quest(rem_questions, data_set):\n",
    "    indexes_to_be_rem = [list(questions.keys()).index(key) for key in rem_questions]\n",
    "    \n",
    "    remain_quest = [index for index in range(len(data_set)) if index%len(questions) not in indexes_to_be_rem]\n",
    "    removed_quest = [index for index in range(len(data_set)) if index%len(questions) in indexes_to_be_rem]\n",
    "    \n",
    "    remain_data_set = data_set[remain_quest]\n",
    "    removed_data_set = data_set[removed_quest]\n",
    "    \n",
    "    return remain_data_set, removed_data_set\n",
    "    "
   ]
  },
  {
   "cell_type": "code",
   "execution_count": 24,
   "metadata": {},
   "outputs": [],
   "source": [
    "def get_manual_embed(df):\n",
    "    return df.iloc[:, 2:].to_numpy()\n",
    "\n",
    "def get_manual_embed_for_training(df, x_train):\n",
    "    data = get_manual_embed(df)\n",
    "    \n",
    "    if data.shape[0] * NUM_PEOPLE == x_train.shape[0]:\n",
    "        to_be_concat = [torch.tensor(data.copy()).type(torch.float32) for _ in range(NUM_PEOPLE)]\n",
    "    \n",
    "    return torch.concat(to_be_concat)\n"
   ]
  },
  {
   "cell_type": "code",
   "execution_count": 25,
   "metadata": {},
   "outputs": [],
   "source": [
    "def get_person_and_responses(data, one_hot_people, person_ID):\n",
    "    # used for taking the average of the persons responses\n",
    "    persons_questions = one_hot_people[:, person_ID] >= 0.5\n",
    "    \n",
    "    return data[persons_questions].sum(axis=1)\n",
    "    \n"
   ]
  },
  {
   "cell_type": "code",
   "execution_count": 26,
   "metadata": {},
   "outputs": [],
   "source": [
    "#load quesitions\n",
    "questions, df = load_sentences_excel(subset=scen)\n",
    "\n",
    "quest_subset = questions.keys()\n",
    "\n",
    "#load responses\n",
    "responses = load_responses(quest_subset)\n",
    "\n",
    "\n",
    "#process everything\n",
    "NUM_PEOPLE, y_train = proces_responses(responses)\n",
    "\n",
    "x_train, bad_questions = proces_sent(questions, NUM_PEOPLE, get_strange_quest=5)\n",
    "\n",
    "one_hot_people = get_people_one_hot()\n",
    "\n",
    "if USE_MANUAL:\n",
    "    manual_embed = get_manual_embed_for_training(df, x_train)\n",
    "    x_train = manual_embed\n",
    "\n",
    "x_all = x_train\n",
    "y_all = y_train\n",
    "one_hot_all = one_hot_people\n",
    "# remove given questions\n",
    "x_train, x_test = remove_quest(removed_quest, x_train)\n",
    "y_train, y_test = remove_quest(removed_quest, y_train)\n",
    "one_hot_people, one_hot_people_test = remove_quest(removed_quest, one_hot_people)"
   ]
  },
  {
   "cell_type": "code",
   "execution_count": 27,
   "metadata": {},
   "outputs": [
    {
     "data": {
      "text/plain": [
       "927"
      ]
     },
     "execution_count": 27,
     "metadata": {},
     "output_type": "execute_result"
    }
   ],
   "source": [
    "NUM_PEOPLE"
   ]
  },
  {
   "cell_type": "code",
   "execution_count": 28,
   "metadata": {},
   "outputs": [
    {
     "data": {
      "text/plain": [
       "7416"
      ]
     },
     "execution_count": 28,
     "metadata": {},
     "output_type": "execute_result"
    }
   ],
   "source": [
    "8*927"
   ]
  },
  {
   "cell_type": "code",
   "execution_count": 29,
   "metadata": {},
   "outputs": [
    {
     "data": {
      "text/plain": [
       "torch.Size([37080, 768])"
      ]
     },
     "execution_count": 29,
     "metadata": {},
     "output_type": "execute_result"
    }
   ],
   "source": [
    "x_train.shape"
   ]
  },
  {
   "cell_type": "code",
   "execution_count": 30,
   "metadata": {},
   "outputs": [
    {
     "data": {
      "text/plain": [
       "torch.Size([37080, 768])"
      ]
     },
     "execution_count": 30,
     "metadata": {},
     "output_type": "execute_result"
    }
   ],
   "source": [
    "x_train.shape"
   ]
  },
  {
   "cell_type": "code",
   "execution_count": 31,
   "metadata": {},
   "outputs": [
    {
     "data": {
      "text/plain": [
       "torch.Size([2781, 768])"
      ]
     },
     "execution_count": 31,
     "metadata": {},
     "output_type": "execute_result"
    }
   ],
   "source": [
    "x_test.shape"
   ]
  },
  {
   "cell_type": "code",
   "execution_count": 32,
   "metadata": {},
   "outputs": [
    {
     "data": {
      "text/plain": [
       "torch.Size([37080, 5])"
      ]
     },
     "execution_count": 32,
     "metadata": {},
     "output_type": "execute_result"
    }
   ],
   "source": [
    "y_train.shape"
   ]
  },
  {
   "cell_type": "code",
   "execution_count": 33,
   "metadata": {},
   "outputs": [
    {
     "data": {
      "text/plain": [
       "torch.Size([2781, 5])"
      ]
     },
     "execution_count": 33,
     "metadata": {},
     "output_type": "execute_result"
    }
   ],
   "source": [
    "y_test.shape"
   ]
  },
  {
   "cell_type": "code",
   "execution_count": 34,
   "metadata": {},
   "outputs": [],
   "source": [
    "class Logit(torch.nn.Module):\n",
    "    \"\"\"\n",
    "    Logit model between two options \n",
    "    \"\"\"\n",
    "    def __init__(self, input_size, num_people=927, dim_var=1):\n",
    "        super(Logit, self).__init__()\n",
    "        self.num_people = num_people\n",
    "        \n",
    "        if compress_method == \"auto_encoder\" or compress_method == \"parrot\":\n",
    "            self.input_size = NN_PARAM[-1]\n",
    "        elif compress_method == \"PCA\":\n",
    "            self.input_size = num_pca\n",
    "        elif compress_method == \"cosine_words\":\n",
    "            self.input_size = len(adj_embed)\n",
    "        else:\n",
    "            self.input_size = input_size\n",
    "        \n",
    "        self.has_fit_pca = False\n",
    "        \n",
    "        self.embedd_weights = torch.nn.Parameter(torch.rand(self.input_size, 1))\n",
    "        self.bias = torch.nn.Parameter(torch.rand(1,1))\n",
    "    \n",
    "        self.person_het_vector = torch.nn.Parameter(torch.rand(num_people, dim_var))\n",
    "        self.het_dimension = torch.nn.Parameter(torch.rand(dim_var, self.input_size))\n",
    "        \n",
    "        #self.util_to_likert = torch.nn.Linear(1, 5)\n",
    "        self.likert = torch.nn.Parameter(torch.rand(1, 5))\n",
    "        \n",
    "        \n",
    "        self.sigmoid = torch.nn.Sigmoid()\n",
    "        self.relu = torch.nn.ReLU()\n",
    "        self.softmax = torch.nn.Softmax(dim=1)\n",
    "        \n",
    "        # create an encoding nn network\n",
    "        if compress_method == \"auto_encoder\" or compress_method == \"parrot\":\n",
    "            #initialise hidden layers \n",
    "            self.encoder = torch.nn.ModuleList()\n",
    "            prev_layer = input_size\n",
    "            for layer_size in NN_PARAM:\n",
    "                self.encoder.append(torch.nn.Linear(prev_layer, layer_size))\n",
    "                prev_layer = layer_size\n",
    "    \n",
    "    def forward(self, chosen_options, pers_respond, floating_likart=False):\n",
    "        \n",
    "        chosen_options = self.compress_data(chosen_options, pers_respond)\n",
    "        \n",
    "        num_entries = chosen_options.shape[0]\n",
    "        \n",
    "        individ_variability = pers_respond @ self.person_het_vector\n",
    "        variabilty_vecs = individ_variability @ self.het_dimension\n",
    "        \n",
    "        seed_values = (self.embedd_weights @ torch.ones(1, num_entries)).T\n",
    "        \n",
    "        variabilty_vecs = variabilty_vecs + seed_values \n",
    "        \n",
    "        utility =  torch.sum((chosen_options * variabilty_vecs),  dim=1) + self.bias\n",
    "        \n",
    "        likart = utility.T @ torch.FloatTensor([[1,1,1,1,1]]) + torch.ones_like(utility.T) @ self.likert \n",
    "        \n",
    "        likart = self.sigmoid(likart)\n",
    "        # instead ->\n",
    "        return likart\n",
    "    \n",
    "    def get_specific_activations(self, chosen_options, pers_respond, floating_likart=False):\n",
    "        chosen_options = self.compress_data(chosen_options, pers_respond)\n",
    "        \n",
    "        num_entries = chosen_options.shape[0]\n",
    "        \n",
    "        individ_variability = pers_respond @ self.person_het_vector\n",
    "        variabilty_vecs = individ_variability @ self.het_dimension\n",
    "        \n",
    "        seed_values = (self.embedd_weights @ torch.ones(1, num_entries)).T\n",
    "        \n",
    "        variabilty_vecs = variabilty_vecs + seed_values \n",
    "        \n",
    "        return chosen_options * variabilty_vecs\n",
    "    \n",
    "    \n",
    "    def compress_data(self, x_data, pers_respond):\n",
    "        \n",
    "        if compress_method == \"none\":\n",
    "            return x_data\n",
    "        elif compress_method == \"PCA\":\n",
    "            return self.PCA(x_data, pers_respond)\n",
    "        elif compress_method == \"auto_encoder\" or compress_method == \"parrot\":\n",
    "            return self.auto_encoder(x_data)\n",
    "        \n",
    "        elif compress_method == \"cosine_words\":\n",
    "            return self.cosine_words(x_data, pers_respond)\n",
    "# none\n",
    "# PCA\n",
    "# auto_encoder\n",
    "# parrot\n",
    "    def cosine_words(self, x_data, pers_respond, compress_output=False):\n",
    "        new_distances = pairwise_cosine_similarity(x_data, adj_embed)\n",
    "        \n",
    "        \n",
    "        if compress_output:\n",
    "            return PCA(new_distances, pers_respond)\n",
    "        else:\n",
    "            return new_distances\n",
    "\n",
    "    def PCA(self, x_data, pers_respond):\n",
    "        #if already has transform -> transform\n",
    "        pers_respond\n",
    "        if not self.has_fit_pca:\n",
    "            single_set_of_questions = pers_respond[:,0] > 0.5\n",
    "            \n",
    "            fitting_space = x_data[single_set_of_questions]\n",
    "            pca.fit(fitting_space)\n",
    "            \n",
    "            self.has_fit_pca = True\n",
    "            \n",
    "        return_val = pca.transform(x_data)\n",
    "        return_val = torch.FloatTensor(return_val)\n",
    "        return return_val\n",
    "        \n",
    "    \n",
    "    def auto_encoder(self, x_data):\n",
    "        #simple forward pass NN to pass\n",
    "        for layer in self.encoder:\n",
    "            x_data = self.relu(layer(x_data))\n",
    "                                    \n",
    "        return x_data\n",
    "        \n",
    "    def sentence_to_neurons(self, sentence):\n",
    "        sentence = torch.tensor(encode_sentence(sentence)).reshape((1,768))\n",
    "        neuron_activation = self.compress_data(sentence, None)\n",
    "        \n",
    "        return neuron_activation\n",
    "    \n",
    "    def poll_question(self, sentence):\n",
    "        #polls a question with every participant in the study \n",
    "        option = torch.tensor(encode_sentence(sentence))\n",
    "        sentence_option = torch.ones(self.num_people, 1) @ option.reshape((1, len(option)))\n",
    "        one_hot_person = torch.eye(self.num_people)\n",
    "        \n",
    "        return self.forward(sentence_option, one_hot_person)\n",
    "        \n",
    "    def get_persons_values(self, ID):\n",
    "        one_hot_person = torch.zeros(NUM_PEOPLE)\n",
    "        one_hot_person[ID] = 1.\n",
    "        \n",
    "        individ_variability = one_hot_person @ self.person_het_vector\n",
    "        variabilty_vecs = individ_variability @ self.het_dimension\n",
    "        \n",
    "        #print(\"1\", variabilty_vecs)\n",
    "        #print(\"2\", self.embedd_weights)\n",
    "        \n",
    "        return variabilty_vecs + self.embedd_weights.T\n",
    "        \n",
    "    def get_individ_utility(self, sentence, ID):\n",
    "        #BROKEN\n",
    "        \n",
    "        values = self.get_persons_values(ID)\n",
    "        option = torch.tensor(encode_sentence(sentence))\n",
    "        compress_data(get_individ_utility)\n",
    "        #print(values.shape, option.shape)\n",
    "        \n",
    "        return  self.sigmoid(torch.sum((option * values),  dim=1) + self.bias)"
   ]
  },
  {
   "cell_type": "code",
   "execution_count": 35,
   "metadata": {},
   "outputs": [
    {
     "name": "stdout",
     "output_type": "stream",
     "text": [
      "torch.Size([3, 2])\n",
      "torch.Size([2, 2])\n"
     ]
    }
   ],
   "source": [
    "x = torch.tensor([[2, 3], [3, 5], [5, 8]], dtype=torch.float32)\n",
    "y = torch.tensor([[1, 0], [2, 1]], dtype=torch.float32)\n",
    "\n",
    "print(x.shape)\n",
    "print(y.shape)"
   ]
  },
  {
   "cell_type": "code",
   "execution_count": 36,
   "metadata": {},
   "outputs": [],
   "source": [
    "dim_of_variability = 5"
   ]
  },
  {
   "cell_type": "code",
   "execution_count": 37,
   "metadata": {},
   "outputs": [],
   "source": [
    "logit_model = Logit(input_size = x_train.shape[1], dim_var=dim_of_variability)\n"
   ]
  },
  {
   "cell_type": "code",
   "execution_count": 38,
   "metadata": {},
   "outputs": [],
   "source": [
    "optimizer = torch.optim.Adam(logit_model.parameters(), lr = 0.01)"
   ]
  },
  {
   "cell_type": "code",
   "execution_count": 39,
   "metadata": {},
   "outputs": [],
   "source": [
    "\n",
    "BCE_crit = torch.nn.BCELoss()\n",
    "def sparse_loss(y_pred, y_test, model, lamb):\n",
    "    loss_criteria = BCE_crit(y_pred.squeeze(), y_test)\n",
    "    \n",
    "    for w in model.encoder:\n",
    "        loss_criteria = loss_criteria + lamb * torch.norm(w.weight,p='fro')**2\n",
    "    \n",
    "    return loss_criteria\n",
    "    \n",
    "#criterion = torch.nn.BCELoss()\n",
    "criterion = torch.nn.BCELoss()"
   ]
  },
  {
   "cell_type": "code",
   "execution_count": 40,
   "metadata": {},
   "outputs": [],
   "source": [
    "lamb = 0.005"
   ]
  },
  {
   "cell_type": "code",
   "execution_count": 41,
   "metadata": {},
   "outputs": [
    {
     "name": "stdout",
     "output_type": "stream",
     "text": [
      "Test loss before training 14.395318031311035\n"
     ]
    }
   ],
   "source": [
    "logit_model.eval()\n",
    "y_pred = logit_model(x_train, one_hot_people)\n",
    "before_train = criterion(y_pred.squeeze(), y_train)\n",
    "print('Test loss before training' , before_train.item())"
   ]
  },
  {
   "cell_type": "code",
   "execution_count": 42,
   "metadata": {},
   "outputs": [],
   "source": [
    "perform = []\n",
    "test_perform = []"
   ]
  },
  {
   "cell_type": "code",
   "execution_count": 75,
   "metadata": {
    "scrolled": true
   },
   "outputs": [
    {
     "name": "stdout",
     "output_type": "stream",
     "text": [
      "Epoch 0: train loss: 0.41088607907295227\n",
      "Epoch 0: test_loss loss: 0.5647361278533936\n",
      "------------------------------------------------------\n",
      "Epoch 100: train loss: 0.4062577486038208\n",
      "Epoch 100: test_loss loss: 0.571047306060791\n",
      "------------------------------------------------------\n"
     ]
    },
    {
     "ename": "KeyboardInterrupt",
     "evalue": "",
     "output_type": "error",
     "traceback": [
      "\u001b[1;31m---------------------------------------------------------------------------\u001b[0m",
      "\u001b[1;31mKeyboardInterrupt\u001b[0m                         Traceback (most recent call last)",
      "\u001b[1;32m<ipython-input-75-02b55d234890>\u001b[0m in \u001b[0;36m<module>\u001b[1;34m\u001b[0m\n\u001b[0;32m     44\u001b[0m \u001b[1;31m# -> https://datascience.stackexchange.com/questions/27561/can-the-number-of-epochs-influence-overfitting\u001b[0m\u001b[1;33m\u001b[0m\u001b[1;33m\u001b[0m\u001b[1;33m\u001b[0m\u001b[0m\n\u001b[0;32m     45\u001b[0m \u001b[1;33m\u001b[0m\u001b[0m\n\u001b[1;32m---> 46\u001b[1;33m \u001b[0mtrain_model\u001b[0m\u001b[1;33m(\u001b[0m\u001b[0mprint_prog\u001b[0m \u001b[1;33m=\u001b[0m \u001b[1;32mTrue\u001b[0m\u001b[1;33m)\u001b[0m\u001b[1;33m\u001b[0m\u001b[1;33m\u001b[0m\u001b[0m\n\u001b[0m",
      "\u001b[1;32m<ipython-input-75-02b55d234890>\u001b[0m in \u001b[0;36mtrain_model\u001b[1;34m(print_prog)\u001b[0m\n\u001b[0;32m     10\u001b[0m         \u001b[0moptimizer\u001b[0m\u001b[1;33m.\u001b[0m\u001b[0mzero_grad\u001b[0m\u001b[1;33m(\u001b[0m\u001b[1;33m)\u001b[0m\u001b[1;33m\u001b[0m\u001b[1;33m\u001b[0m\u001b[0m\n\u001b[0;32m     11\u001b[0m         \u001b[1;31m# Forward pass\u001b[0m\u001b[1;33m\u001b[0m\u001b[1;33m\u001b[0m\u001b[1;33m\u001b[0m\u001b[0m\n\u001b[1;32m---> 12\u001b[1;33m         \u001b[0my_pred\u001b[0m \u001b[1;33m=\u001b[0m \u001b[0mlogit_model\u001b[0m\u001b[1;33m(\u001b[0m\u001b[0mx_train\u001b[0m\u001b[1;33m,\u001b[0m \u001b[0mone_hot_people\u001b[0m\u001b[1;33m)\u001b[0m\u001b[1;33m\u001b[0m\u001b[1;33m\u001b[0m\u001b[0m\n\u001b[0m\u001b[0;32m     13\u001b[0m         \u001b[1;31m# Compute Loss\u001b[0m\u001b[1;33m\u001b[0m\u001b[1;33m\u001b[0m\u001b[1;33m\u001b[0m\u001b[0m\n\u001b[0;32m     14\u001b[0m         \u001b[0mloss\u001b[0m \u001b[1;33m=\u001b[0m \u001b[0mcriterion\u001b[0m\u001b[1;33m(\u001b[0m\u001b[0my_pred\u001b[0m\u001b[1;33m.\u001b[0m\u001b[0msqueeze\u001b[0m\u001b[1;33m(\u001b[0m\u001b[1;33m)\u001b[0m\u001b[1;33m,\u001b[0m \u001b[0my_train\u001b[0m\u001b[1;33m)\u001b[0m\u001b[1;33m\u001b[0m\u001b[1;33m\u001b[0m\u001b[0m\n",
      "\u001b[1;32m~\\anaconda3\\envs\\ml\\lib\\site-packages\\torch\\nn\\modules\\module.py\u001b[0m in \u001b[0;36m_call_impl\u001b[1;34m(self, *input, **kwargs)\u001b[0m\n\u001b[0;32m   1100\u001b[0m         if not (self._backward_hooks or self._forward_hooks or self._forward_pre_hooks or _global_backward_hooks\n\u001b[0;32m   1101\u001b[0m                 or _global_forward_hooks or _global_forward_pre_hooks):\n\u001b[1;32m-> 1102\u001b[1;33m             \u001b[1;32mreturn\u001b[0m \u001b[0mforward_call\u001b[0m\u001b[1;33m(\u001b[0m\u001b[1;33m*\u001b[0m\u001b[0minput\u001b[0m\u001b[1;33m,\u001b[0m \u001b[1;33m**\u001b[0m\u001b[0mkwargs\u001b[0m\u001b[1;33m)\u001b[0m\u001b[1;33m\u001b[0m\u001b[1;33m\u001b[0m\u001b[0m\n\u001b[0m\u001b[0;32m   1103\u001b[0m         \u001b[1;31m# Do not call functions when jit is used\u001b[0m\u001b[1;33m\u001b[0m\u001b[1;33m\u001b[0m\u001b[1;33m\u001b[0m\u001b[0m\n\u001b[0;32m   1104\u001b[0m         \u001b[0mfull_backward_hooks\u001b[0m\u001b[1;33m,\u001b[0m \u001b[0mnon_full_backward_hooks\u001b[0m \u001b[1;33m=\u001b[0m \u001b[1;33m[\u001b[0m\u001b[1;33m]\u001b[0m\u001b[1;33m,\u001b[0m \u001b[1;33m[\u001b[0m\u001b[1;33m]\u001b[0m\u001b[1;33m\u001b[0m\u001b[1;33m\u001b[0m\u001b[0m\n",
      "\u001b[1;32m<ipython-input-34-5fc4cd2269c4>\u001b[0m in \u001b[0;36mforward\u001b[1;34m(self, chosen_options, pers_respond, floating_likart)\u001b[0m\n\u001b[0;32m     43\u001b[0m     \u001b[1;32mdef\u001b[0m \u001b[0mforward\u001b[0m\u001b[1;33m(\u001b[0m\u001b[0mself\u001b[0m\u001b[1;33m,\u001b[0m \u001b[0mchosen_options\u001b[0m\u001b[1;33m,\u001b[0m \u001b[0mpers_respond\u001b[0m\u001b[1;33m,\u001b[0m \u001b[0mfloating_likart\u001b[0m\u001b[1;33m=\u001b[0m\u001b[1;32mFalse\u001b[0m\u001b[1;33m)\u001b[0m\u001b[1;33m:\u001b[0m\u001b[1;33m\u001b[0m\u001b[1;33m\u001b[0m\u001b[0m\n\u001b[0;32m     44\u001b[0m \u001b[1;33m\u001b[0m\u001b[0m\n\u001b[1;32m---> 45\u001b[1;33m         \u001b[0mchosen_options\u001b[0m \u001b[1;33m=\u001b[0m \u001b[0mself\u001b[0m\u001b[1;33m.\u001b[0m\u001b[0mcompress_data\u001b[0m\u001b[1;33m(\u001b[0m\u001b[0mchosen_options\u001b[0m\u001b[1;33m,\u001b[0m \u001b[0mpers_respond\u001b[0m\u001b[1;33m)\u001b[0m\u001b[1;33m\u001b[0m\u001b[1;33m\u001b[0m\u001b[0m\n\u001b[0m\u001b[0;32m     46\u001b[0m \u001b[1;33m\u001b[0m\u001b[0m\n\u001b[0;32m     47\u001b[0m         \u001b[0mnum_entries\u001b[0m \u001b[1;33m=\u001b[0m \u001b[0mchosen_options\u001b[0m\u001b[1;33m.\u001b[0m\u001b[0mshape\u001b[0m\u001b[1;33m[\u001b[0m\u001b[1;36m0\u001b[0m\u001b[1;33m]\u001b[0m\u001b[1;33m\u001b[0m\u001b[1;33m\u001b[0m\u001b[0m\n",
      "\u001b[1;32m<ipython-input-34-5fc4cd2269c4>\u001b[0m in \u001b[0;36mcompress_data\u001b[1;34m(self, x_data, pers_respond)\u001b[0m\n\u001b[0;32m     82\u001b[0m             \u001b[1;32mreturn\u001b[0m \u001b[0mx_data\u001b[0m\u001b[1;33m\u001b[0m\u001b[1;33m\u001b[0m\u001b[0m\n\u001b[0;32m     83\u001b[0m         \u001b[1;32melif\u001b[0m \u001b[0mcompress_method\u001b[0m \u001b[1;33m==\u001b[0m \u001b[1;34m\"PCA\"\u001b[0m\u001b[1;33m:\u001b[0m\u001b[1;33m\u001b[0m\u001b[1;33m\u001b[0m\u001b[0m\n\u001b[1;32m---> 84\u001b[1;33m             \u001b[1;32mreturn\u001b[0m \u001b[0mself\u001b[0m\u001b[1;33m.\u001b[0m\u001b[0mPCA\u001b[0m\u001b[1;33m(\u001b[0m\u001b[0mx_data\u001b[0m\u001b[1;33m,\u001b[0m \u001b[0mpers_respond\u001b[0m\u001b[1;33m)\u001b[0m\u001b[1;33m\u001b[0m\u001b[1;33m\u001b[0m\u001b[0m\n\u001b[0m\u001b[0;32m     85\u001b[0m         \u001b[1;32melif\u001b[0m \u001b[0mcompress_method\u001b[0m \u001b[1;33m==\u001b[0m \u001b[1;34m\"auto_encoder\"\u001b[0m \u001b[1;32mor\u001b[0m \u001b[0mcompress_method\u001b[0m \u001b[1;33m==\u001b[0m \u001b[1;34m\"parrot\"\u001b[0m\u001b[1;33m:\u001b[0m\u001b[1;33m\u001b[0m\u001b[1;33m\u001b[0m\u001b[0m\n\u001b[0;32m     86\u001b[0m             \u001b[1;32mreturn\u001b[0m \u001b[0mself\u001b[0m\u001b[1;33m.\u001b[0m\u001b[0mauto_encoder\u001b[0m\u001b[1;33m(\u001b[0m\u001b[0mx_data\u001b[0m\u001b[1;33m)\u001b[0m\u001b[1;33m\u001b[0m\u001b[1;33m\u001b[0m\u001b[0m\n",
      "\u001b[1;32m<ipython-input-34-5fc4cd2269c4>\u001b[0m in \u001b[0;36mPCA\u001b[1;34m(self, x_data, pers_respond)\u001b[0m\n\u001b[0;32m    112\u001b[0m             \u001b[0mself\u001b[0m\u001b[1;33m.\u001b[0m\u001b[0mhas_fit_pca\u001b[0m \u001b[1;33m=\u001b[0m \u001b[1;32mTrue\u001b[0m\u001b[1;33m\u001b[0m\u001b[1;33m\u001b[0m\u001b[0m\n\u001b[0;32m    113\u001b[0m \u001b[1;33m\u001b[0m\u001b[0m\n\u001b[1;32m--> 114\u001b[1;33m         \u001b[0mreturn_val\u001b[0m \u001b[1;33m=\u001b[0m \u001b[0mpca\u001b[0m\u001b[1;33m.\u001b[0m\u001b[0mtransform\u001b[0m\u001b[1;33m(\u001b[0m\u001b[0mx_data\u001b[0m\u001b[1;33m)\u001b[0m\u001b[1;33m\u001b[0m\u001b[1;33m\u001b[0m\u001b[0m\n\u001b[0m\u001b[0;32m    115\u001b[0m         \u001b[0mreturn_val\u001b[0m \u001b[1;33m=\u001b[0m \u001b[0mtorch\u001b[0m\u001b[1;33m.\u001b[0m\u001b[0mFloatTensor\u001b[0m\u001b[1;33m(\u001b[0m\u001b[0mreturn_val\u001b[0m\u001b[1;33m)\u001b[0m\u001b[1;33m\u001b[0m\u001b[1;33m\u001b[0m\u001b[0m\n\u001b[0;32m    116\u001b[0m         \u001b[1;32mreturn\u001b[0m \u001b[0mreturn_val\u001b[0m\u001b[1;33m\u001b[0m\u001b[1;33m\u001b[0m\u001b[0m\n",
      "\u001b[1;32m~\\anaconda3\\envs\\ml\\lib\\site-packages\\sklearn\\decomposition\\_base.py\u001b[0m in \u001b[0;36mtransform\u001b[1;34m(self, X)\u001b[0m\n\u001b[0;32m    128\u001b[0m         \u001b[1;32mif\u001b[0m \u001b[0mself\u001b[0m\u001b[1;33m.\u001b[0m\u001b[0mmean_\u001b[0m \u001b[1;32mis\u001b[0m \u001b[1;32mnot\u001b[0m \u001b[1;32mNone\u001b[0m\u001b[1;33m:\u001b[0m\u001b[1;33m\u001b[0m\u001b[1;33m\u001b[0m\u001b[0m\n\u001b[0;32m    129\u001b[0m             \u001b[0mX\u001b[0m \u001b[1;33m=\u001b[0m \u001b[0mX\u001b[0m \u001b[1;33m-\u001b[0m \u001b[0mself\u001b[0m\u001b[1;33m.\u001b[0m\u001b[0mmean_\u001b[0m\u001b[1;33m\u001b[0m\u001b[1;33m\u001b[0m\u001b[0m\n\u001b[1;32m--> 130\u001b[1;33m         \u001b[0mX_transformed\u001b[0m \u001b[1;33m=\u001b[0m \u001b[0mnp\u001b[0m\u001b[1;33m.\u001b[0m\u001b[0mdot\u001b[0m\u001b[1;33m(\u001b[0m\u001b[0mX\u001b[0m\u001b[1;33m,\u001b[0m \u001b[0mself\u001b[0m\u001b[1;33m.\u001b[0m\u001b[0mcomponents_\u001b[0m\u001b[1;33m.\u001b[0m\u001b[0mT\u001b[0m\u001b[1;33m)\u001b[0m\u001b[1;33m\u001b[0m\u001b[1;33m\u001b[0m\u001b[0m\n\u001b[0m\u001b[0;32m    131\u001b[0m         \u001b[1;32mif\u001b[0m \u001b[0mself\u001b[0m\u001b[1;33m.\u001b[0m\u001b[0mwhiten\u001b[0m\u001b[1;33m:\u001b[0m\u001b[1;33m\u001b[0m\u001b[1;33m\u001b[0m\u001b[0m\n\u001b[0;32m    132\u001b[0m             \u001b[0mX_transformed\u001b[0m \u001b[1;33m/=\u001b[0m \u001b[0mnp\u001b[0m\u001b[1;33m.\u001b[0m\u001b[0msqrt\u001b[0m\u001b[1;33m(\u001b[0m\u001b[0mself\u001b[0m\u001b[1;33m.\u001b[0m\u001b[0mexplained_variance_\u001b[0m\u001b[1;33m)\u001b[0m\u001b[1;33m\u001b[0m\u001b[1;33m\u001b[0m\u001b[0m\n",
      "\u001b[1;32m~\\anaconda3\\envs\\ml\\lib\\site-packages\\numpy\\core\\overrides.py\u001b[0m in \u001b[0;36mdot\u001b[1;34m(*args, **kwargs)\u001b[0m\n",
      "\u001b[1;31mKeyboardInterrupt\u001b[0m: "
     ]
    }
   ],
   "source": [
    "\n",
    "def train_model(print_prog = False):\n",
    "    # logit model \n",
    "    logit_model.train()\n",
    "    epoch = 1000\n",
    "    prev_test_loss = 100\n",
    "    \n",
    "    num_bad_steps = 8000000\n",
    "    \n",
    "    for epoch in range(epoch):\n",
    "        optimizer.zero_grad()\n",
    "        # Forward pass\n",
    "        y_pred = logit_model(x_train, one_hot_people)\n",
    "        # Compute Loss\n",
    "        loss = criterion(y_pred.squeeze(), y_train)\n",
    "        # Backward pass\n",
    "        loss.backward()\n",
    "        optimizer.step()\n",
    "        perform.append(loss.item())\n",
    "        \n",
    "        \n",
    "        y_pred = logit_model(x_test, one_hot_people_test)\n",
    "        # Compute Loss\n",
    "        loss_test = criterion(y_pred.squeeze(), y_test)\n",
    "        test_perform.append(loss_test.item())\n",
    "        \n",
    "        if prev_test_loss <= loss_test.item():\n",
    "            num_bad_steps = num_bad_steps - 1\n",
    "            if num_bad_steps <= 0:\n",
    "                break\n",
    "            \n",
    "        prev_test_loss = loss_test.item()\n",
    "        \n",
    "        \n",
    "        if print_prog and epoch%100 == 0:\n",
    "            print('Epoch {}: train loss: {}'.format(epoch, loss.item()))\n",
    "            print('Epoch {}: test_loss loss: {}'.format(epoch, loss_test.item()))\n",
    "            print(\"------------------------------------------------------\")\n",
    "            \n",
    "    if print_prog:\n",
    "        print(\"VVVVVVVVVVVVVVVVVVVVVVVVVVVVVVVVVVVVVVVVVVVV\")        \n",
    "        print(f\"done with training loss of:{loss.item()} \\nand test loss of: {loss_test.item()}\")\n",
    "    \n",
    "# early stop is leagal \n",
    "# -> https://datascience.stackexchange.com/questions/27561/can-the-number-of-epochs-influence-overfitting\n",
    "\n",
    "train_model(print_prog = True)"
   ]
  },
  {
   "cell_type": "code",
   "execution_count": 76,
   "metadata": {},
   "outputs": [
    {
     "data": {
      "text/plain": [
       "(0.0, 3.0)"
      ]
     },
     "execution_count": 76,
     "metadata": {},
     "output_type": "execute_result"
    },
    {
     "data": {
      "image/png": "[encoded data removed]",
      "text/plain": [
       "<Figure size 432x288 with 1 Axes>"
      ]
     },
     "metadata": {
      "needs_background": "light"
     },
     "output_type": "display_data"
    }
   ],
   "source": [
    "sns.lineplot(x=np.arange(len(perform)), y=perform, label=\"training_performance\")\n",
    "plt.plot(np.arange(len(test_perform)), test_perform, label=\"test_performance\")\n",
    "plt.legend()\n",
    "plt.ylim(0, 3)"
   ]
  },
  {
   "cell_type": "markdown",
   "metadata": {},
   "source": [
    "# Check Model Works"
   ]
  },
  {
   "cell_type": "code",
   "execution_count": 77,
   "metadata": {},
   "outputs": [],
   "source": [
    "y_pred = logit_model(x_test, one_hot_people_test)"
   ]
  },
  {
   "cell_type": "code",
   "execution_count": 78,
   "metadata": {},
   "outputs": [
    {
     "data": {
      "text/plain": [
       "tensor([[1., 1., 1., 1., 1.],\n",
       "        [1., 1., 1., 1., 1.],\n",
       "        [1., 1., 1., 1., 0.],\n",
       "        ...,\n",
       "        [1., 0., 0., 0., 0.],\n",
       "        [1., 1., 1., 0., 0.],\n",
       "        [1., 0., 0., 0., 0.]])"
      ]
     },
     "execution_count": 78,
     "metadata": {},
     "output_type": "execute_result"
    }
   ],
   "source": [
    "y_test"
   ]
  },
  {
   "cell_type": "code",
   "execution_count": 79,
   "metadata": {},
   "outputs": [
    {
     "data": {
      "text/plain": [
       "tensor([[0.9520, 0.8843, 0.7632, 0.4149, 0.1344],\n",
       "        [0.9771, 0.9427, 0.8740, 0.6042, 0.2505],\n",
       "        [0.9230, 0.8220, 0.6607, 0.2999, 0.0858],\n",
       "        ...,\n",
       "        [0.9557, 0.8926, 0.7780, 0.4354, 0.1445],\n",
       "        [0.9172, 0.8102, 0.6429, 0.2837, 0.0798],\n",
       "        [0.5458, 0.3166, 0.1635, 0.0412, 0.0093]], grad_fn=<SigmoidBackward0>)"
      ]
     },
     "execution_count": 79,
     "metadata": {},
     "output_type": "execute_result"
    }
   ],
   "source": [
    "y_pred"
   ]
  },
  {
   "cell_type": "markdown",
   "metadata": {},
   "source": [
    "# Model Performance"
   ]
  },
  {
   "cell_type": "code",
   "execution_count": 80,
   "metadata": {},
   "outputs": [],
   "source": [
    "from sklearn import metrics"
   ]
  },
  {
   "cell_type": "code",
   "execution_count": 81,
   "metadata": {},
   "outputs": [],
   "source": [
    "def tens_to_int(y_vals):\n",
    "    ret_val = y_vals >= 0.5\n",
    "    return ret_val.sum(axis=1)\n",
    "    \n",
    "\n",
    "def int_to_lik(y_vals):\n",
    "    ret_vals = y_vals.detach().numpy()\n",
    "    \n",
    "    for index, likard in enumerate([\"Strongly disagree\", \"Disagree\", \"Somewhat disagree\", \"Somewhat agree\", \"Agree\", \"Strongly agree\"]):\n",
    "        #np.where(ret_vals == index, )\n",
    "        1\n",
    "    return 1\n",
    "    \n",
    "#int_to_lik(tens_to_int(y_test))"
   ]
  },
  {
   "cell_type": "code",
   "execution_count": 82,
   "metadata": {},
   "outputs": [
    {
     "data": {
      "text/plain": [
       "{'Q16.2': 'It is easy for me to travel to and from public transport (e.g. stops/stations are close by or have parking or good access via footpaths/bike paths).',\n",
       " 'Q16.3': 'I would cycle more if I had an e-bike (electric bike) which reduces the physical effort required.',\n",
       " 'Q16.4': 'I would cycle more if I could hire a normal or e-bike near my key origin and destinations.',\n",
       " 'Q16.5': 'I am happy to change modes a few times during my journey – e.g. from a bus to a train, or car to bus.',\n",
       " 'Q16.6': 'I am happy to walk a short distance (up to 10 minutes) to reach my transport.',\n",
       " 'Q16.7': 'I would use public transport more if it picked me up and dropped me off right near the start and end of my trip (less than 2 minute walk).',\n",
       " 'Q17.2': 'I would use a shared taxi or shuttle bus if it was cheaper than taking a private taxi.',\n",
       " 'Q17.3': 'I would consider not owning a car if I could access a vehicle for a comparable or lower cost in other ways when I really need it i.e. Car hire/sharing',\n",
       " 'Q17.4': 'If fast, convenient, affordable public transport and shared taxis were available to me, I would use private cars/my car less.',\n",
       " 'Q17.5': 'I would rather carpool or share a taxi/uber with other travellers for an affordable cost than take public transport.',\n",
       " 'Q18.2': 'I use transport planning websites and apps (e.g. Google Maps or TransLink Journey Planner) regularly.',\n",
       " 'Q18.3': 'I find it easy to plan my journeys.',\n",
       " 'Q18.4': 'Information about public transport is easy to find.',\n",
       " 'Q18.5': 'I would be happy to use my phone to tap on and off and pay for transport services.',\n",
       " 'Q18.6': 'I would be happy to use my debit card to tap on and off and pay for transport services.',\n",
       " 'Q19.2': 'I like the idea of having flexible access to my choice of car with included insurance, maintenance and roadside assistance for a weekly or monthly fee.',\n",
       " 'Q19.3': 'It would be useful to have access to a car on a month by month basis.',\n",
       " 'Q19.4': 'I would be willing to pay between $400 and $600 a month for a basic car subscription with all vehicle costs covered (excluding fuel).',\n",
       " 'Q19.5': 'I would be willing to pay between $600 and $1200 a month for a luxury car subscription with all vehicle costs covered (excluding fuel).',\n",
       " 'Q19.6': 'It would be good to be able to reduce my expenses by only paying for a vehicle when I need one.',\n",
       " 'Q19.7': 'I would consider using a car subscription service instead of buying or leasing a new car myself.',\n",
       " 'Q20.2': 'I like the idea of having all my transport costs bundled into a convenient monthly subscription package or bill – like a mobile phone or internet plan.',\n",
       " 'Q20.3': 'I would want my ‘transport credits’ in a mobility package to rollover to the next month if they were not used.',\n",
       " 'Q20.4': 'I would prefer that money was only deducted from my travel account when I complete a trip, rather than having a pre-paid fixed monthly cost for all my regular trips.',\n",
       " 'Q20.5': 'If my transport package included other modes I haven’t used before, I would try them.',\n",
       " 'Q20.6': 'I would give up car ownership or choose not to buy a car if affordable, fast, and convenient public transport, active travel, or taxi style options were available to me.',\n",
       " 'Q20.7': 'I would be likely to use Mobility as a Service for regular trips, but I would still want to own a car.',\n",
       " 'Q21.2': 'I support electric vehicles because they are better for the environment.',\n",
       " 'Q21.3': 'Electric vehicles have enough battery range (kilometres) to get me to and from the places I need to go.',\n",
       " 'Q21.4': 'I would prefer a hybrid vehicle over a petrol or diesel vehicle.',\n",
       " 'Q21.5': 'I would happily charge an electric vehicle at home or work using a normal powerpoint or electric vehicle charger.',\n",
       " 'Q21.6': 'For longer trips I would happily charge my electric vehicle for 20-30 minutes every 2-4 hours at fast chargers.',\n",
       " 'Q21.7': 'Electric vehicles are too expensive to buy even if the running and maintenance costs are lower.',\n",
       " 'Q21.8': 'I would consider buying an electric vehicle for my next car.',\n",
       " 'Q21.9': 'I would buy an electric vehicle if there were cost discounts, subsidies, or rebates.',\n",
       " 'Q22.2': 'I like the idea of safe automated vehicles if they make it easier for me to travel.',\n",
       " 'Q22.3': 'I trust automated vehicles to operate safely.',\n",
       " 'Q22.4': 'I would consider buying an automated vehicle.',\n",
       " 'Q22.5': 'I would be comfortable riding in an automated vehicle.',\n",
       " 'Q22.6': 'I would allow my children to be transported in an automated vehicle.',\n",
       " 'Q22.7': 'I would pay a higher price for a partly or fully automated vehicle than a non-automated vehicle.',\n",
       " 'Q22.8': 'I would enjoy being able to use my time in an automated vehicle for things like reading, or relaxing rather than driving.',\n",
       " 'Q22.9': 'I enjoy actually driving a car, and would prefer that to riding in an automated vehicle.'}"
      ]
     },
     "execution_count": 82,
     "metadata": {},
     "output_type": "execute_result"
    }
   ],
   "source": [
    "questions"
   ]
  },
  {
   "cell_type": "code",
   "execution_count": 83,
   "metadata": {
    "scrolled": false
   },
   "outputs": [],
   "source": [
    "import plotly.graph_objects as go\n",
    "from matplotlib.pyplot import figure\n",
    "import scipy\n",
    "\n",
    "def get_performance(model, question, print_conf_mat = True):\n",
    "    y_pred = model(x_all, one_hot_all)\n",
    "    \n",
    "    #fig = make_subplots(rows=rows, cols=col)\n",
    "    \n",
    "    _, quest_pred = remove_quest([question], y_pred)\n",
    "    _, quest_response = remove_quest([question], y_all)\n",
    "    \n",
    "#     # build 1 way \n",
    "#     scen=['Agreed With Prompt', 'Disagreed With Prompt']\n",
    "\n",
    "#     response_y = quest_response > 0.5\n",
    "#     model_y = quest_pred > 0.5\n",
    "\n",
    "#     #given the model predicted y:\n",
    "#     response_where_model_pred_y = response_y[model_y]\n",
    "\n",
    "#     prob_y_given_mod_y = sum(response_where_model_pred_y)/(len(response_where_model_pred_y))\n",
    "#     prob_n_given_mod_y = sum(~response_where_model_pred_y)/(len(response_where_model_pred_y))\n",
    "#     print(\"given predicted Y, model response of YN: \", prob_y_given_mod_y, prob_n_given_mod_y)\n",
    "\n",
    "#     response_where_model_pred_n = response_y[~model_y]\n",
    "#     prob_y_given_mod_n = sum(response_where_model_pred_n)/(len(response_where_model_pred_n))\n",
    "#     prob_n_given_mod_n = sum(~response_where_model_pred_n)/(len(response_where_model_pred_n))\n",
    "#    print(\"given predicted N, model response of YN: \", prob_y_given_mod_n, prob_n_given_mod_n)\n",
    "    \n",
    "    predictions = tens_to_int(quest_pred)\n",
    "    responses = tens_to_int(quest_response)\n",
    "    \n",
    "    slope, intercept, r_value, p_value, std_err = scipy.stats.linregress(predictions, responses)\n",
    "    average_diff = sum((predictions - responses)**2)/len(predictions)\n",
    "    \n",
    "    \n",
    "    scen=[\"Strongly\\ndisagree\", \"Disagree\", \"Somewhat\\ndisagree\", \"Somewhat\\nagree\", \"Agree\", \"Strongly\\nagree\"]\n",
    "#     fig = go.Figure(data=[\n",
    "#         go.Bar(name='Model Predicts Agree', x=scen, y=[prob_y_given_mod_y, prob_n_given_mod_y]),\n",
    "#         go.Bar(name='Model Predicts Disagree', x=scen, y=[prob_y_given_mod_n, prob_n_given_mod_n])\n",
    "#     ])\n",
    "    \n",
    "#     # Change the bar mode\n",
    "#     fig.update_layout(barmode='group')\n",
    "#     fig.show()\n",
    "    if print_conf_mat:\n",
    "        print(question, \": \", questions[question])\n",
    "        print(f\"slope={slope:.2f}    r={r_value:.2f}    diff={float(average_diff):.2f}\")\n",
    "        confusion_matrix = metrics.confusion_matrix(responses, predictions)\n",
    "        cm_display = metrics.ConfusionMatrixDisplay(confusion_matrix = confusion_matrix, display_labels = scen)\n",
    "\n",
    "        fig, ax = plt.subplots(figsize=(8,8))\n",
    "        cm_display.plot(ax=ax)\n",
    "        plt.title(f\"slope={slope:.2f}    r={r_value:.2f}    diff={float(average_diff):.2f}\")\n",
    "        plt.show()\n",
    "\n",
    "    return slope, r_value, float(average_diff) \n",
    "        "
   ]
  },
  {
   "cell_type": "code",
   "execution_count": 84,
   "metadata": {
    "scrolled": false
   },
   "outputs": [],
   "source": [
    "def predictions_from_average(question, print_conf_mat = True):\n",
    "    _, quest_response = remove_quest([question], y_all)\n",
    "    responses_of_question = tens_to_int(quest_response)\n",
    "    \n",
    "    \n",
    "    train_averages = []\n",
    "    for i in range(NUM_PEOPLE):\n",
    "        train_respons = get_person_and_responses(y_train, one_hot_people, i)\n",
    "        train_averages.append(round(float(sum(train_respons)/len(train_respons))))\n",
    "    \n",
    "    train_averages = np.array(train_averages)\n",
    "    \n",
    "    slope, intercept, r_value, p_value, std_err = scipy.stats.linregress(train_averages, responses_of_question)\n",
    "    \n",
    "    average_diff = sum((train_averages - responses_of_question.numpy())**2)/len(train_averages)\n",
    "    if print_conf_mat:\n",
    "        print(f\"slope={slope:.2f}    r={r_value:.2f}    diff={float(average_diff):.2f}\")\n",
    "        scen=[\"Strongly\\ndisagree\", \"Disagree\", \"Somewhat\\ndisagree\", \"Somewhat\\nagree\", \"Agree\", \"Strongly\\nagree\"]\n",
    "        confusion_matrix = metrics.confusion_matrix(responses_of_question, train_averages)\n",
    "        cm_display = metrics.ConfusionMatrixDisplay(confusion_matrix= confusion_matrix, display_labels = scen)\n",
    "        fig, ax = plt.subplots(figsize=(8,8))\n",
    "        cm_display.plot(ax=ax)\n",
    "        plt.title(f\"slope={slope:.2f}    r={r_value:.2f}    diff={float(average_diff):.2f}\")\n",
    "        plt.show()\n",
    "    return slope, r_value, average_diff\n"
   ]
  },
  {
   "cell_type": "code",
   "execution_count": 85,
   "metadata": {},
   "outputs": [],
   "source": [
    "from tqdm import tqdm"
   ]
  },
  {
   "cell_type": "code",
   "execution_count": 86,
   "metadata": {
    "scrolled": false
   },
   "outputs": [
    {
     "name": "stderr",
     "output_type": "stream",
     "text": [
      "100%|██████████████████████████████████████████████████████████████████████████████████| 43/43 [00:57<00:00,  1.34s/it]\n"
     ]
    },
    {
     "name": "stdout",
     "output_type": "stream",
     "text": [
      "Test Set\n"
     ]
    },
    {
     "data": {
      "image/png": "[encoded data removed]",
      "text/plain": [
       "<Figure size 648x432 with 1 Axes>"
      ]
     },
     "metadata": {
      "needs_background": "light"
     },
     "output_type": "display_data"
    },
    {
     "name": "stdout",
     "output_type": "stream",
     "text": [
      "Training Set\n"
     ]
    },
    {
     "data": {
      "image/png": "[encoded data removed]",
      "text/plain": [
       "<Figure size 648x432 with 1 Axes>"
      ]
     },
     "metadata": {
      "needs_background": "light"
     },
     "output_type": "display_data"
    },
    {
     "name": "stdout",
     "output_type": "stream",
     "text": [
      "Question 22\n"
     ]
    },
    {
     "data": {
      "image/png": "[encoded data removed]",
      "text/plain": [
       "<Figure size 648x432 with 1 Axes>"
      ]
     },
     "metadata": {
      "needs_background": "light"
     },
     "output_type": "display_data"
    }
   ],
   "source": [
    "def get_average(list_dict, key):\n",
    "    rel_list = [x[key] for x in list_dict]\n",
    "    return sum(rel_list)/len(rel_list)\n",
    "\n",
    "def get_all_performance():\n",
    "    test_diff = []\n",
    "    train_diff = []\n",
    "    test_r2 = []\n",
    "    train_r2 = []\n",
    "    for quest in tqdm(questions.keys()):\n",
    "        _, av_r2, av_diff = predictions_from_average(quest, False)\n",
    "        _, md_r2, md_diff = get_performance(logit_model, quest, False)\n",
    "        if quest in removed_quest:\n",
    "            test_diff.append({\"Question\": quest, \"Model\": md_diff, \"Average\": av_diff})\n",
    "            test_r2.append({\"Question\": quest, \"Model\": md_r2, \"Average\": av_r2})\n",
    "            if quest == \"Q22.2\":\n",
    "                Q22_av_r2 = av_r2\n",
    "                Q22_av_diff = av_diff\n",
    "                Q22_md_r2 = md_r2\n",
    "                Q22_md_diff = md_diff\n",
    "        else:\n",
    "            train_diff.append({\"Question\": quest, \"Model\": md_diff, \"Average\": av_diff})\n",
    "            train_r2.append({\"Question\": quest, \"Model\": md_r2, \"Average\": av_r2})\n",
    "            \n",
    "    \n",
    "    print(\"Test Set\")\n",
    "    labels = ['r2', 'Difference\\nSquared']\n",
    "    model = [get_average(test_r2, \"Model\"), get_average(test_diff, \"Model\")]\n",
    "    baseline = [get_average(test_r2, \"Average\"), get_average(test_diff, \"Average\")]\n",
    "\n",
    "    x = np.arange(len(labels))  # the label locations\n",
    "    width = 0.35  # the width of the bars\n",
    "\n",
    "    fig, ax = plt.subplots(figsize=(9,6))\n",
    "    rects1 = ax.bar(x - width/2, model, width, label='Model Performance')\n",
    "    rects2 = ax.bar(x + width/2, baseline, width, label='Naive Estimation Performance')\n",
    "\n",
    "    # Add some text for labels, title and custom x-axis tick labels, etc.\n",
    "    ax.set_ylabel('Scores')\n",
    "    ax.set_xticks(x, labels)\n",
    "    ax.legend()\n",
    "\n",
    "#     ax.bar_label(rects1, padding=3)\n",
    "#     ax.bar_label(rects2, padding=3)\n",
    "\n",
    "    plt.show()\n",
    "    \n",
    "    print(\"Training Set\")\n",
    "    labels = ['r2', 'Difference\\nSquared']\n",
    "    model = [get_average(train_r2, \"Model\"), get_average(train_diff, \"Model\")]\n",
    "    baseline = [get_average(train_r2, \"Average\"), get_average(train_diff, \"Average\")]\n",
    "\n",
    "    x = np.arange(len(labels))  # the label locations\n",
    "    width = 0.35  # the width of the bars\n",
    "\n",
    "    fig, ax = plt.subplots(figsize=(9,6))\n",
    "    rects1 = ax.bar(x - width/2, model, width, label='Model Performance')\n",
    "    rects2 = ax.bar(x + width/2, baseline, width, label='Naive Estimation Performance')\n",
    "\n",
    "    # Add some text for labels, title and custom x-axis tick labels, etc.\n",
    "    ax.set_ylabel('Scores')\n",
    "    ax.set_xticks(x, labels)\n",
    "    ax.legend()\n",
    "    \n",
    "#     ax.bar_label(rects1, padding=5)\n",
    "#     ax.bar_label(rects2, padding=5)\n",
    "    plt.show()\n",
    "    \n",
    "    \n",
    "    print(\"Question 22\")\n",
    "    labels = ['r2', 'Difference\\nSquared']\n",
    "    model = [Q22_md_r2, Q22_md_diff]\n",
    "    baseline = [Q22_av_r2, Q22_av_diff]\n",
    "\n",
    "    x = np.arange(len(labels))  # the label locations\n",
    "    width = 0.35  # the width of the bars\n",
    "\n",
    "    fig, ax = plt.subplots(figsize=(9,6))\n",
    "    rects1 = ax.bar(x - width/2, model, width, label='Model Performance')\n",
    "    rects2 = ax.bar(x + width/2, baseline, width, label='Naive Estimation Performance')\n",
    "\n",
    "    # Add some text for labels, title and custom x-axis tick labels, etc.\n",
    "    ax.set_ylabel('Scores')\n",
    "    ax.set_xticks(x, labels)\n",
    "    ax.legend()\n",
    "\n",
    "#     ax.bar_label(rects1, padding=3)\n",
    "#     ax.bar_label(rects2, padding=3)\n",
    "    plt.show()\n",
    "get_all_performance()"
   ]
  },
  {
   "cell_type": "code",
   "execution_count": 87,
   "metadata": {
    "scrolled": false
   },
   "outputs": [
    {
     "name": "stdout",
     "output_type": "stream",
     "text": [
      "Q19.5 :  I would be willing to pay between $600 and $1200 a month for a luxury car subscription with all vehicle costs covered (excluding fuel).\n",
      "slope=1.23    r=0.54    diff=1.18\n"
     ]
    },
    {
     "data": {
      "image/png": "[encoded data removed]",
      "text/plain": [
       "<Figure size 576x576 with 2 Axes>"
      ]
     },
     "metadata": {
      "needs_background": "light"
     },
     "output_type": "display_data"
    },
    {
     "name": "stdout",
     "output_type": "stream",
     "text": [
      "slope=0.63    r=0.47    diff=3.39\n"
     ]
    },
    {
     "data": {
      "image/png": "[encoded data removed]",
      "text/plain": [
       "<Figure size 576x576 with 2 Axes>"
      ]
     },
     "metadata": {
      "needs_background": "light"
     },
     "output_type": "display_data"
    }
   ],
   "source": [
    "_ = get_performance(logit_model, \"Q19.5\")\n",
    "_ = predictions_from_average(\"Q19.5\")"
   ]
  },
  {
   "cell_type": "code",
   "execution_count": 88,
   "metadata": {},
   "outputs": [
    {
     "name": "stdout",
     "output_type": "stream",
     "text": [
      "Q22.2 :  I like the idea of safe automated vehicles if they make it easier for me to travel.\n",
      "slope=0.86    r=0.57    diff=1.90\n"
     ]
    },
    {
     "data": {
      "image/png": "[encoded data removed]",
      "text/plain": [
       "<Figure size 576x576 with 2 Axes>"
      ]
     },
     "metadata": {
      "needs_background": "light"
     },
     "output_type": "display_data"
    },
    {
     "name": "stdout",
     "output_type": "stream",
     "text": [
      "slope=1.10    r=0.61    diff=1.55\n"
     ]
    },
    {
     "data": {
      "image/png": "[encoded data removed]",
      "text/plain": [
       "<Figure size 576x576 with 2 Axes>"
      ]
     },
     "metadata": {
      "needs_background": "light"
     },
     "output_type": "display_data"
    }
   ],
   "source": [
    "_ = get_performance(logit_model, \"Q22.2\")\n",
    "_ = predictions_from_average(\"Q22.2\")"
   ]
  },
  {
   "cell_type": "code",
   "execution_count": 89,
   "metadata": {},
   "outputs": [
    {
     "name": "stdout",
     "output_type": "stream",
     "text": [
      "Q21.2 :  I support electric vehicles because they are better for the environment.\n",
      "slope=0.86    r=0.51    diff=1.57\n"
     ]
    },
    {
     "data": {
      "image/png": "[encoded data removed]",
      "text/plain": [
       "<Figure size 576x576 with 2 Axes>"
      ]
     },
     "metadata": {
      "needs_background": "light"
     },
     "output_type": "display_data"
    },
    {
     "name": "stdout",
     "output_type": "stream",
     "text": [
      "slope=0.81    r=0.52    diff=2.34\n"
     ]
    },
    {
     "data": {
      "image/png": "[encoded data removed]",
      "text/plain": [
       "<Figure size 576x576 with 2 Axes>"
      ]
     },
     "metadata": {
      "needs_background": "light"
     },
     "output_type": "display_data"
    }
   ],
   "source": [
    "_ = get_performance(logit_model, \"Q21.2\")\n",
    "_ = predictions_from_average(\"Q21.2\")"
   ]
  },
  {
   "cell_type": "markdown",
   "metadata": {},
   "source": [
    "# het"
   ]
  },
  {
   "cell_type": "code",
   "execution_count": 1,
   "metadata": {},
   "outputs": [
    {
     "ename": "NameError",
     "evalue": "name 'logit_model' is not defined",
     "output_type": "error",
     "traceback": [
      "\u001b[1;31m---------------------------------------------------------------------------\u001b[0m",
      "\u001b[1;31mNameError\u001b[0m                                 Traceback (most recent call last)",
      "\u001b[1;32m<ipython-input-1-69b6c5dd640b>\u001b[0m in \u001b[0;36m<module>\u001b[1;34m\u001b[0m\n\u001b[1;32m----> 1\u001b[1;33m \u001b[0mhet_vec\u001b[0m \u001b[1;33m=\u001b[0m \u001b[0mlogit_model\u001b[0m\u001b[1;33m.\u001b[0m\u001b[0mperson_het_vector\u001b[0m\u001b[1;33m.\u001b[0m\u001b[0mclone\u001b[0m\u001b[1;33m(\u001b[0m\u001b[1;33m)\u001b[0m\u001b[1;33m\u001b[0m\u001b[1;33m\u001b[0m\u001b[0m\n\u001b[0m\u001b[0;32m      2\u001b[0m \u001b[0mx\u001b[0m \u001b[1;33m=\u001b[0m \u001b[0mhet_vec\u001b[0m\u001b[1;33m[\u001b[0m\u001b[1;33m:\u001b[0m\u001b[1;33m,\u001b[0m\u001b[1;36m1\u001b[0m\u001b[1;33m]\u001b[0m\u001b[1;33m.\u001b[0m\u001b[0mdetach\u001b[0m\u001b[1;33m(\u001b[0m\u001b[1;33m)\u001b[0m\u001b[1;33m.\u001b[0m\u001b[0mnumpy\u001b[0m\u001b[1;33m(\u001b[0m\u001b[1;33m)\u001b[0m\u001b[1;33m\u001b[0m\u001b[1;33m\u001b[0m\u001b[0m\n\u001b[0;32m      3\u001b[0m \u001b[0my\u001b[0m \u001b[1;33m=\u001b[0m \u001b[0mhet_vec\u001b[0m\u001b[1;33m[\u001b[0m\u001b[1;33m:\u001b[0m\u001b[1;33m,\u001b[0m\u001b[1;36m1\u001b[0m\u001b[1;33m]\u001b[0m\u001b[1;33m.\u001b[0m\u001b[0mdetach\u001b[0m\u001b[1;33m(\u001b[0m\u001b[1;33m)\u001b[0m\u001b[1;33m.\u001b[0m\u001b[0mnumpy\u001b[0m\u001b[1;33m(\u001b[0m\u001b[1;33m)\u001b[0m\u001b[1;33m\u001b[0m\u001b[1;33m\u001b[0m\u001b[0m\n\u001b[0;32m      4\u001b[0m \u001b[0mdata\u001b[0m \u001b[1;33m=\u001b[0m \u001b[0mpd\u001b[0m\u001b[1;33m.\u001b[0m\u001b[0mread_excel\u001b[0m\u001b[1;33m(\u001b[0m\u001b[1;34m\"responses.xlsx\"\u001b[0m\u001b[1;33m)\u001b[0m\u001b[1;33m\u001b[0m\u001b[1;33m\u001b[0m\u001b[0m\n\u001b[0;32m      5\u001b[0m \u001b[0msns\u001b[0m\u001b[1;33m.\u001b[0m\u001b[0mscatterplot\u001b[0m\u001b[1;33m(\u001b[0m\u001b[0mx\u001b[0m\u001b[1;33m,\u001b[0m\u001b[0my\u001b[0m\u001b[1;33m,\u001b[0m \u001b[0mhue\u001b[0m\u001b[1;33m=\u001b[0m\u001b[0mdata\u001b[0m\u001b[1;33m[\u001b[0m\u001b[1;34m\"Q1.1\"\u001b[0m\u001b[1;33m]\u001b[0m\u001b[1;33m)\u001b[0m\u001b[1;33m\u001b[0m\u001b[1;33m\u001b[0m\u001b[0m\n",
      "\u001b[1;31mNameError\u001b[0m: name 'logit_model' is not defined"
     ]
    }
   ],
   "source": [
    "het_vec = logit_model.person_het_vector.clone()\n",
    "x = het_vec[:,1].detach().numpy()\n",
    "y = het_vec[:,1].detach().numpy()\n",
    "data = pd.read_excel(\"responses.xlsx\")\n",
    "sns.scatterplot(x,y, hue=data[\"Q1.1\"])\n",
    "plt.show()\n",
    "\n",
    "group1 = x[data[\"Q1.1\"] == \"Male\"]\n",
    "group2 = x[data[\"Q1.1\"] == \"Female\"]\n",
    "\n",
    "sns.kdeplot(group1, label=\"Male\")\n",
    "sns.kdeplot(group2, label=\"Female\")\n",
    "plt.xlabel(\"Latent Parameter for Respondent\")\n",
    "plt.legend()\n",
    "plt.show()\n",
    "\n",
    "\n",
    "# from https://www.geeksforgeeks.org/how-to-perform-an-f-test-in-python/\n",
    "import scipy.stats as stats\n",
    "  \n",
    "# Create data\n",
    "\n",
    "  \n",
    "# # converting the list to array\n",
    "# x = np.array(group1)\n",
    "# y = np.array(group2)\n",
    "  \n",
    "# calculate variance of each group\n",
    "# print(np.var(group1), np.var(group2))\n",
    "  \n",
    "def f_test(group1, group2):\n",
    "    f = np.var(group1, ddof=1)/np.var(group2, ddof=1)\n",
    "    nun = x.size-1\n",
    "    dun = y.size-1\n",
    "    p_value = 1-scipy.stats.f.cdf(f, nun, dun)\n",
    "    return f, p_value\n",
    "print(f_test(group1, group2))\n",
    "print(stats.ttest_ind(group1, group2))"
   ]
  },
  {
   "cell_type": "markdown",
   "metadata": {},
   "source": [
    "# Neuron Examination"
   ]
  },
  {
   "cell_type": "code",
   "execution_count": 98,
   "metadata": {},
   "outputs": [],
   "source": [
    "with open('adj/english-adjectives.txt') as f:\n",
    "    adjatives = [line.strip() for line in f]"
   ]
  },
  {
   "cell_type": "code",
   "execution_count": 99,
   "metadata": {},
   "outputs": [],
   "source": [
    "a = list(logit_model.sentence_to_neurons(\"slow\").detach().numpy())[0]"
   ]
  },
  {
   "cell_type": "code",
   "execution_count": 100,
   "metadata": {},
   "outputs": [],
   "source": [
    "adj = pd.DataFrame.from_dict({\"adj\": adjatives})\n",
    "for nur_num, nur_act in enumerate(a):\n",
    "    adj[nur_num] = np.NAN\n",
    "    \n",
    "adj = adj.set_index(\"adj\")"
   ]
  },
  {
   "cell_type": "code",
   "execution_count": 101,
   "metadata": {},
   "outputs": [],
   "source": [
    "adj.loc[\"abandoned\"] = a"
   ]
  },
  {
   "cell_type": "code",
   "execution_count": 102,
   "metadata": {},
   "outputs": [
    {
     "data": {
      "text/plain": [
       "5.164455890655518"
      ]
     },
     "execution_count": 102,
     "metadata": {},
     "output_type": "execute_result"
    }
   ],
   "source": [
    "adj.loc[\"abandoned\", 0]"
   ]
  },
  {
   "cell_type": "code",
   "execution_count": 103,
   "metadata": {},
   "outputs": [],
   "source": [
    "from tqdm import tqdm"
   ]
  },
  {
   "cell_type": "code",
   "execution_count": 104,
   "metadata": {},
   "outputs": [],
   "source": [
    "#list(logit_model.sentence_to_neurons(\"word\").detach().numpy())[0]"
   ]
  },
  {
   "cell_type": "code",
   "execution_count": 105,
   "metadata": {},
   "outputs": [
    {
     "name": "stderr",
     "output_type": "stream",
     "text": [
      "100%|██████████████████████████████████████████████████████████████████████████████| 1347/1347 [01:39<00:00, 13.50it/s]\n"
     ]
    }
   ],
   "source": [
    "a = list(logit_model.sentence_to_neurons(\"slow\").detach().numpy())[0]\n",
    "\n",
    "for word in tqdm(adjatives):\n",
    "    neurons = list(logit_model.sentence_to_neurons(word).detach().numpy())[0]\n",
    "    \n",
    "    for index, n_weight in enumerate(neurons):\n",
    "        adj.loc[word, index] = n_weight\n",
    "    \n",
    "    \n",
    "    \n"
   ]
  },
  {
   "cell_type": "code",
   "execution_count": 125,
   "metadata": {},
   "outputs": [
    {
     "data": {
      "text/plain": [
       "adj\n",
       "elementary   -3.766869\n",
       "arctic       -3.261044\n",
       "revolving    -3.247416\n",
       "electric     -3.204469\n",
       "general      -3.152063\n",
       "                ...   \n",
       "expensive     5.032906\n",
       "fat           5.189440\n",
       "shoddy        5.236141\n",
       "wobbly        5.317357\n",
       "lanky         5.441111\n",
       "Name: 2, Length: 1347, dtype: float64"
      ]
     },
     "execution_count": 125,
     "metadata": {},
     "output_type": "execute_result"
    }
   ],
   "source": [
    "adj[2].sort_values()"
   ]
  },
  {
   "cell_type": "code",
   "execution_count": 107,
   "metadata": {},
   "outputs": [],
   "source": [
    "# person activations\n",
    "personal_activations = logit_model.get_specific_activations(x_all, one_hot_all)"
   ]
  },
  {
   "cell_type": "code",
   "execution_count": 108,
   "metadata": {},
   "outputs": [
    {
     "data": {
      "text/plain": [
       "PCA(n_components=40)"
      ]
     },
     "execution_count": 108,
     "metadata": {},
     "output_type": "execute_result"
    }
   ],
   "source": [
    "#fit neurons to questions\n",
    "interpretter = PCA(n_components=40)\n",
    "interpretter.fit(x_all)"
   ]
  },
  {
   "cell_type": "code",
   "execution_count": 109,
   "metadata": {},
   "outputs": [],
   "source": [
    "adj_dict = dict(list(enumerate(adjatives)))"
   ]
  },
  {
   "cell_type": "code",
   "execution_count": 110,
   "metadata": {},
   "outputs": [],
   "source": [
    "adj_embeds, _ = proces_sent(adj_dict, int(NUM_PEOPLE/3), get_strange_quest=0)"
   ]
  },
  {
   "cell_type": "code",
   "execution_count": 111,
   "metadata": {},
   "outputs": [],
   "source": [
    "adj_embeds.shape\n",
    "NUM_ROWS = int(2679030/3)\n",
    "adj_embed_short = adj_embeds[:NUM_ROWS]"
   ]
  },
  {
   "cell_type": "code",
   "execution_count": 112,
   "metadata": {},
   "outputs": [
    {
     "data": {
      "text/plain": [
       "893010.0"
      ]
     },
     "execution_count": 112,
     "metadata": {},
     "output_type": "execute_result"
    }
   ],
   "source": [
    "2679030/3"
   ]
  },
  {
   "cell_type": "code",
   "execution_count": 113,
   "metadata": {},
   "outputs": [],
   "source": [
    "#usual function for this broke, make a new one that doesnt run out of memory\n",
    "to_be_concat = []\n",
    "np_height = len(adj_dict)\n",
    "for i in range(int(NUM_PEOPLE/3)):\n",
    "    temp_array = torch.zeros((np_height, NUM_PEOPLE))\n",
    "    temp_array[:, i] = 1\n",
    "    to_be_concat.append(temp_array)\n",
    "    \n",
    "one_hot_adj = torch.concat(to_be_concat)"
   ]
  },
  {
   "cell_type": "code",
   "execution_count": 114,
   "metadata": {},
   "outputs": [],
   "source": [
    "activations = logit_model.get_specific_activations(adj_embed_short, one_hot_adj)"
   ]
  },
  {
   "cell_type": "code",
   "execution_count": 115,
   "metadata": {},
   "outputs": [],
   "source": [
    "#re orent activations into orthogonal dimensions\n",
    "activation_interpreter = PCA(n_components=35)\n",
    "activation_interpreter.fit(activations.detach().numpy())\n",
    "re_oriented_act = activation_interpreter.transform(activations.detach().numpy())\n",
    "\n",
    "# average each word:\n",
    "to_be_concat = []\n",
    "for index, word in adj_dict.items():\n",
    "    import_indexes = list(range(index, len(activations), len(adj_dict)))\n",
    "    \n",
    "    to_be_concat.append(np.sum(re_oriented_act[import_indexes], axis=0).reshape(1, -1))\n",
    "average_for_word = np.concatenate(to_be_concat)\n"
   ]
  },
  {
   "cell_type": "code",
   "execution_count": 116,
   "metadata": {},
   "outputs": [],
   "source": [
    "# look at the words that maximise each activation\n",
    "to_be_df = {\"word\": adj_dict.values()}\n",
    "for i in range(35):\n",
    "    to_be_df[i] = average_for_word[:, i]\n",
    "    "
   ]
  },
  {
   "cell_type": "code",
   "execution_count": 117,
   "metadata": {},
   "outputs": [],
   "source": [
    "adj_act_2 = pd.DataFrame.from_dict(to_be_df).set_index(\"word\")"
   ]
  },
  {
   "cell_type": "code",
   "execution_count": 120,
   "metadata": {},
   "outputs": [
    {
     "data": {
      "text/plain": [
       "word\n",
       "urban           -215.681290\n",
       "biodegradable   -173.883362\n",
       "suburban        -148.434174\n",
       "sociable        -148.187729\n",
       "affectionate    -145.814148\n",
       "                    ...    \n",
       "untrue           113.414398\n",
       "delayed          116.688362\n",
       "lopsided         118.120865\n",
       "hasty            126.584503\n",
       "impish           128.545319\n",
       "Name: 0, Length: 1347, dtype: float32"
      ]
     },
     "execution_count": 120,
     "metadata": {},
     "output_type": "execute_result"
    }
   ],
   "source": [
    "index=0\n",
    "adj_act_2[index].sort_values()\n",
    "# print(adj_act_2[index].sort_values().head(10))\n",
    "# print(adj_act_2[index].sort_values().tail(10))"
   ]
  },
  {
   "cell_type": "code",
   "execution_count": null,
   "metadata": {},
   "outputs": [],
   "source": [
    "logit_mod"
   ]
  },
  {
   "cell_type": "code",
   "execution_count": null,
   "metadata": {},
   "outputs": [],
   "source": [
    "len(adj_dict)"
   ]
  },
  {
   "cell_type": "code",
   "execution_count": null,
   "metadata": {},
   "outputs": [],
   "source": [
    "average_for_word.shape"
   ]
  },
  {
   "cell_type": "code",
   "execution_count": null,
   "metadata": {},
   "outputs": [],
   "source": [
    "# groupe questions \n",
    "\n"
   ]
  },
  {
   "cell_type": "code",
   "execution_count": null,
   "metadata": {},
   "outputs": [],
   "source": [
    "50/2.5*3.6"
   ]
  },
  {
   "cell_type": "code",
   "execution_count": null,
   "metadata": {},
   "outputs": [],
   "source": [
    "temp_array.shape[0] * NUM_PEOPLE"
   ]
  },
  {
   "cell_type": "code",
   "execution_count": null,
   "metadata": {},
   "outputs": [],
   "source": [
    "adj_embeds.shape"
   ]
  },
  {
   "cell_type": "code",
   "execution_count": null,
   "metadata": {},
   "outputs": [],
   "source": [
    "a = 75+72+65+50\n",
    "a/4\n",
    "3600*4/20\n",
    "8*4/100"
   ]
  },
  {
   "cell_type": "code",
   "execution_count": null,
   "metadata": {},
   "outputs": [],
   "source": [
    "2679030 / 39861"
   ]
  },
  {
   "cell_type": "code",
   "execution_count": null,
   "metadata": {},
   "outputs": [],
   "source": [
    "interpretter.transform(x_all)\n",
    "\n",
    "questions\n"
   ]
  },
  {
   "cell_type": "code",
   "execution_count": null,
   "metadata": {},
   "outputs": [],
   "source": [
    "# TODO\n",
    "# auto confusion matrix (for scenario)\n",
    "\n",
    "# ordered logit model\n",
    "\n",
    "# extract actual values (language model backwards)\n",
    "\n",
    "# kick out covariances with people socieal data\n",
    "#     - IE men care about speed\n",
    "#     - rich people care about status\n"
   ]
  },
  {
   "cell_type": "code",
   "execution_count": null,
   "metadata": {},
   "outputs": [],
   "source": [
    "import plotly.graph_objects as go\n",
    "\n",
    "fig = go.Figure(data=[go.Sankey(\n",
    "    node = dict(\n",
    "      pad = 15,\n",
    "      thickness = 20,\n",
    "      line = dict(color = \"black\", width = 0.5),\n",
    "      label = [\"Model Predicts Agree\", \"Model Predicts Disagree\", \"Survey Agrees\", \"Survey Disagrees\"],\n",
    "      color = \"blue\"\n",
    "    ),\n",
    "    link = dict(\n",
    "      source = [0, 0, 1, 1], # indices correspond to labels, eg A1, A2, A1, B1, ...\n",
    "      target = [2, 3, 2, 3],\n",
    "      value = [8, 4, 2, 8]\n",
    "  ))])\n",
    "\n",
    "fig.update_layout(title_text=\"Basic Sankey Diagram\", font_size=10)\n",
    "fig.show()"
   ]
  },
  {
   "cell_type": "code",
   "execution_count": null,
   "metadata": {},
   "outputs": [],
   "source": [
    "#questions"
   ]
  },
  {
   "cell_type": "code",
   "execution_count": null,
   "metadata": {},
   "outputs": [],
   "source": [
    "removed_quest"
   ]
  },
  {
   "cell_type": "code",
   "execution_count": null,
   "metadata": {},
   "outputs": [],
   "source": [
    "\n",
    "_, working_sample = remove_quest(\"Q22.4\", y_all)\n",
    "_, broken_sample = remove_quest(removed_quest, y_all)\n",
    "\n",
    "working_sample = working_sample[:100]\n",
    "broken_sample = broken_sample[:100]"
   ]
  },
  {
   "cell_type": "code",
   "execution_count": null,
   "metadata": {},
   "outputs": [],
   "source": [
    "working_sample"
   ]
  },
  {
   "cell_type": "code",
   "execution_count": null,
   "metadata": {},
   "outputs": [],
   "source": [
    "num_sample_people = 100\n",
    "sent_to_model = 'I would consider buying an automated vehicle.'\n",
    "sent_to_model = 'I trust automated vehicles to operate safely.'\n",
    "sent_to_model = 'I would consider buying a vehicle.'# (0.7697223874366013)\n",
    "sent_to_model = 'I trust buying an automated vehicle.' #(-0.705674437480165)\n",
    "sent_to_model = 'never gonna give you up'# -0.6907486661293478\n",
    "sent_to_model ='I trust automated vehicles to operate safely.'\n",
    "new_pred = [float(logit_model.get_individ_utility(sent_to_model, ID)[0,0]) for ID in range(num_sample_people)]\n",
    "\n",
    "new_pred = np.array(new_pred)"
   ]
  },
  {
   "cell_type": "code",
   "execution_count": null,
   "metadata": {},
   "outputs": [],
   "source": [
    "import scipy\n",
    "\n",
    "print(scipy.stats.pearsonr(working_sample, new_pred))\n",
    "print(scipy.stats.pearsonr(broken_sample, new_pred))"
   ]
  },
  {
   "cell_type": "markdown",
   "metadata": {},
   "source": [
    "\n",
    "$$ $$\n",
    "$$ $$$$ $$$$ $$$$ $$$$ $$$$ $$$$ $$$$ $$$$ $$"
   ]
  },
  {
   "cell_type": "markdown",
   "metadata": {},
   "source": [
    "# Out of bound Question"
   ]
  },
  {
   "cell_type": "code",
   "execution_count": null,
   "metadata": {},
   "outputs": [],
   "source": [
    "# 2 random guys on the internet is better then 1\n",
    "\n",
    "# is it overfitting\n",
    "def get_n_params(model):\n",
    "    pp=0\n",
    "    for p in list(model.parameters()):\n",
    "        nn=1\n",
    "        for s in list(p.size()):\n",
    "            nn = nn*s\n",
    "        pp += nn\n",
    "    return pp\n",
    "\n",
    "get_n_params(logit_model)"
   ]
  },
  {
   "cell_type": "code",
   "execution_count": null,
   "metadata": {},
   "outputs": [],
   "source": [
    "model_parameters = filter(lambda p: p.requires_grad, logit_model.parameters())\n",
    "sum([np.prod(p.size()) for p in model_parameters])\n"
   ]
  },
  {
   "cell_type": "code",
   "execution_count": null,
   "metadata": {},
   "outputs": [],
   "source": [
    "len(x_train)"
   ]
  },
  {
   "cell_type": "code",
   "execution_count": null,
   "metadata": {},
   "outputs": [],
   "source": [
    "print(removed_quest)\n",
    "_, reomved_quest_results = remove_quest(removed_quest, y_all)"
   ]
  },
  {
   "cell_type": "code",
   "execution_count": null,
   "metadata": {},
   "outputs": [],
   "source": [
    "questions.keys()"
   ]
  },
  {
   "cell_type": "code",
   "execution_count": null,
   "metadata": {},
   "outputs": [],
   "source": [
    "y = logit_model.poll_question(questions['Q16.2']).detach().numpy()\n",
    "x = reomved_quest_results\n",
    "\n",
    "import scipy\n",
    "\n",
    "print(scipy.stats.pearsonr(x, y))\n",
    "\n",
    "def jitter(values):\n",
    "    return values + np.random.normal(0,0.05,values.shape)\n",
    "\n",
    "sns.scatterplot(x=jitter(x), y=jitter(y))"
   ]
  },
  {
   "cell_type": "markdown",
   "metadata": {},
   "source": [
    "# dont redo PCA - fix "
   ]
  },
  {
   "cell_type": "code",
   "execution_count": null,
   "metadata": {},
   "outputs": [],
   "source": [
    "unkown_sent = questions[removed_quest]\n",
    "print(unkown_sent)\n",
    "logit_model.get_individ_utility(unkown_sent, 8)"
   ]
  },
  {
   "cell_type": "code",
   "execution_count": null,
   "metadata": {},
   "outputs": [],
   "source": [
    "from tqdm import tqdm\n",
    "#new_pred = [logit_model.get_individ_utility(unkown_sent, ID) for ID in tqdm(range(NUM_PEOPLE))]"
   ]
  },
  {
   "cell_type": "code",
   "execution_count": null,
   "metadata": {},
   "outputs": [],
   "source": [
    "y_pred = logit_model(x_test, one_hot_people_test)\n",
    "y_pred = y_pred.detach().numpy()"
   ]
  },
  {
   "cell_type": "code",
   "execution_count": null,
   "metadata": {},
   "outputs": [],
   "source": [
    "len(y_test)\n",
    "len(y_pred)"
   ]
  },
  {
   "cell_type": "code",
   "execution_count": null,
   "metadata": {},
   "outputs": [],
   "source": [
    "print(sum(y_test))\n",
    "print(sum(y_pred >= 0.5))"
   ]
  },
  {
   "cell_type": "code",
   "execution_count": null,
   "metadata": {},
   "outputs": [],
   "source": [
    "def jitter(values):\n",
    "    return values + np.random.normal(0,0.05,values.shape)\n",
    "sns.scatterplot(x=jitter(y_test), y=jitter(y_pred))"
   ]
  },
  {
   "cell_type": "code",
   "execution_count": null,
   "metadata": {},
   "outputs": [],
   "source": [
    "len(y_test) - sum(y_test)"
   ]
  },
  {
   "cell_type": "code",
   "execution_count": null,
   "metadata": {},
   "outputs": [],
   "source": [
    "# import random \n",
    "\n",
    "# rand_list = [0]*591 + [1]*336\n",
    "# random.shuffle(rand_list)\n",
    "# rand_list = np.array(rand_list)\n",
    "\n",
    "# pool_1 = y_pred[rand_list==1]\n",
    "# pool_2 = y_pred[rand_list==0]"
   ]
  },
  {
   "cell_type": "code",
   "execution_count": null,
   "metadata": {},
   "outputs": [],
   "source": [
    "pool_1 = y_pred[y_test==1]\n",
    "pool_2 = y_pred[y_test==0]"
   ]
  },
  {
   "cell_type": "code",
   "execution_count": null,
   "metadata": {},
   "outputs": [],
   "source": [
    "from scipy import stats\n",
    "\n",
    "t_value,p_value=stats.ttest_ind(pool_1, pool_2)\n",
    "p_value"
   ]
  },
  {
   "cell_type": "code",
   "execution_count": null,
   "metadata": {},
   "outputs": [],
   "source": [
    "import scipy\n",
    "\n",
    "scipy.stats.pearsonr(y_test, y_pred)"
   ]
  },
  {
   "cell_type": "code",
   "execution_count": null,
   "metadata": {},
   "outputs": [],
   "source": [
    "sum(pool_1)/len(pool_1)"
   ]
  },
  {
   "cell_type": "code",
   "execution_count": null,
   "metadata": {},
   "outputs": [],
   "source": [
    "sum(pool_2)/len(pool_2)"
   ]
  },
  {
   "cell_type": "code",
   "execution_count": null,
   "metadata": {},
   "outputs": [],
   "source": [
    "a = torch.nn.Linear(1,6)\n"
   ]
  },
  {
   "cell_type": "code",
   "execution_count": null,
   "metadata": {},
   "outputs": [],
   "source": [
    "a(torch.FloatTensor([0.5]))"
   ]
  },
  {
   "cell_type": "code",
   "execution_count": 32,
   "metadata": {},
   "outputs": [
    {
     "data": {
      "text/plain": [
       "<matplotlib.legend.Legend at 0x1f0f5fed730>"
      ]
     },
     "execution_count": 32,
     "metadata": {},
     "output_type": "execute_result"
    },
    {
     "data": {
      "image/png": "[encoded data removed]",
      "text/plain": [
       "<Figure size 432x288 with 1 Axes>"
      ]
     },
     "metadata": {
      "needs_background": "light"
     },
     "output_type": "display_data"
    }
   ],
   "source": [
    "\n",
    "import numpy as np\n",
    "import seaborn as sns\n",
    "import matplotlib.pyplot as plt\n",
    "\n",
    "x_data = [0.4, 0.6, 0.9, 1.1, 1.4, 1.7, 1.9, 4.6]\n",
    "y_data = [0.4, 0.5, 0.54, 0.45, 0.6, 0.62, 0.68, 1.04]\n",
    "\n",
    "sns.scatterplot(x=x_data, y=y_data)\n",
    "x=np.linspace(0, 5)\n",
    "y=0.19*x+0.3\n",
    "plt.plot(x, y, label=\"Linear Model\")\n",
    "\n",
    "x=np.linspace(0, 5)\n",
    "y=0.19*x+0.3-0.001*x*x*x*x\n",
    "plt.plot(x, y, label=\"Nonlinear Model \")\n",
    "\n",
    "plt.legend()"
   ]
  }
 ],
 "metadata": {
  "kernelspec": {
   "display_name": "Python 3",
   "language": "python",
   "name": "python3"
  },
  "language_info": {
   "codemirror_mode": {
    "name": "ipython",
    "version": 3
   },
   "file_extension": ".py",
   "mimetype": "text/x-python",
   "name": "python",
   "nbconvert_exporter": "python",
   "pygments_lexer": "ipython3",
   "version": "3.8.5"
  }
 },
 "nbformat": 4,
 "nbformat_minor": 4
}
